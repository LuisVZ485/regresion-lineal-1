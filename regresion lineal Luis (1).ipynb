{
 "cells": [
  {
   "cell_type": "code",
   "execution_count": 1,
   "id": "51cc5db5-f4a4-4eb8-a4f5-282fe6444045",
   "metadata": {
    "tags": []
   },
   "outputs": [],
   "source": [
    "import pandas as pd\n",
    "import matplotlib.pyplot as plt\n",
    "from sklearn import linear_model\n",
    "import seaborn as sns\n",
    "import numpy as np"
   ]
  },
  {
   "cell_type": "code",
   "execution_count": 4,
   "id": "b5fa1ff8-95a6-4c6c-a090-2f46d13e65b9",
   "metadata": {
    "tags": []
   },
   "outputs": [],
   "source": [
    "data = pd.read_csv(\"D:/documentos (D)/analisis de datos UNAD/archive (1)/data.csv\", sep=\",\")"
   ]
  },
  {
   "cell_type": "code",
   "execution_count": 5,
   "id": "0df42135-f34d-466f-8aee-7b73969607b4",
   "metadata": {
    "tags": []
   },
   "outputs": [
    {
     "data": {
      "text/html": [
       "<div>\n",
       "<style scoped>\n",
       "    .dataframe tbody tr th:only-of-type {\n",
       "        vertical-align: middle;\n",
       "    }\n",
       "\n",
       "    .dataframe tbody tr th {\n",
       "        vertical-align: top;\n",
       "    }\n",
       "\n",
       "    .dataframe thead th {\n",
       "        text-align: right;\n",
       "    }\n",
       "</style>\n",
       "<table border=\"1\" class=\"dataframe\">\n",
       "  <thead>\n",
       "    <tr style=\"text-align: right;\">\n",
       "      <th></th>\n",
       "      <th>metro</th>\n",
       "      <th>precio</th>\n",
       "    </tr>\n",
       "  </thead>\n",
       "  <tbody>\n",
       "    <tr>\n",
       "      <th>0</th>\n",
       "      <td>5</td>\n",
       "      <td>375</td>\n",
       "    </tr>\n",
       "    <tr>\n",
       "      <th>1</th>\n",
       "      <td>15</td>\n",
       "      <td>487</td>\n",
       "    </tr>\n",
       "    <tr>\n",
       "      <th>2</th>\n",
       "      <td>20</td>\n",
       "      <td>450</td>\n",
       "    </tr>\n",
       "    <tr>\n",
       "      <th>3</th>\n",
       "      <td>25</td>\n",
       "      <td>500</td>\n",
       "    </tr>\n",
       "  </tbody>\n",
       "</table>\n",
       "</div>"
      ],
      "text/plain": [
       "   metro  precio\n",
       "0      5     375\n",
       "1     15     487\n",
       "2     20     450\n",
       "3     25     500"
      ]
     },
     "execution_count": 5,
     "metadata": {},
     "output_type": "execute_result"
    }
   ],
   "source": [
    "data"
   ]
  },
  {
   "cell_type": "code",
   "execution_count": 27,
   "id": "ad064c4b-0155-443c-8e68-27c2a630aae0",
   "metadata": {},
   "outputs": [
    {
     "data": {
      "image/png": "[encoded data removed]",
      "text/plain": [
       "<Figure size 640x480 with 1 Axes>"
      ]
     },
     "metadata": {},
     "output_type": "display_data"
    }
   ],
   "source": [
    "data.plot.scatter(x=\"metro\", y= \"precio\", label= \"Datos\")\n",
    "plt.scatter(entrada, predicciones, color=\"red\")\n",
    "plt.plot(entrada,predicciones, color=\"black\", label=\"Linea de regresion\")\n",
    "plt.plot(data[\"metro\"],  b0+b1*data[\"metro\"])\n",
    "plt.title(\"Grafica de dispersion\")\n",
    "plt.xlabel(\"Metro\")\n",
    "plt.ylabel(\"Precio\")\n",
    "plt.legend()\n",
    "plt.grid()\n",
    "plt.show()"
   ]
  },
  {
   "cell_type": "code",
   "execution_count": 23,
   "id": "8ad38828-fd0f-4f87-9f3c-39880fe5f77b",
   "metadata": {
    "tags": []
   },
   "outputs": [
    {
     "name": "stdout",
     "output_type": "stream",
     "text": [
      "5.645714285714267\n"
     ]
    }
   ],
   "source": [
    "b1, b0 = np.polyfit(data[\"metro\"],data[\"precio\"],1)\n",
    "print(b1,)"
   ]
  },
  {
   "cell_type": "code",
   "execution_count": 13,
   "id": "9c38394e-3030-4d3a-a817-373454b223e8",
   "metadata": {
    "tags": []
   },
   "outputs": [],
   "source": [
    "regresion = linear_model.LinearRegression()"
   ]
  },
  {
   "cell_type": "code",
   "execution_count": 14,
   "id": "35432b22-dcfa-4c60-857f-d89c24181bd4",
   "metadata": {
    "tags": []
   },
   "outputs": [],
   "source": [
    "precio= data[\"precio\"].values.reshape((-1,1))"
   ]
  },
  {
   "cell_type": "code",
   "execution_count": 16,
   "id": "b889a346-c7d1-46dd-bd5a-852fcc8fe598",
   "metadata": {
    "tags": []
   },
   "outputs": [],
   "source": [
    "modelo = regresion.fit(precio, data[\"metro\"])"
   ]
  },
  {
   "cell_type": "code",
   "execution_count": 17,
   "id": "fa312e23-accb-4ad3-9199-2c23ce46ff36",
   "metadata": {
    "tags": []
   },
   "outputs": [
    {
     "name": "stdout",
     "output_type": "stream",
     "text": [
      "Interseccion (b) -42.901511947557616\n",
      "Pendiente (m) [0.13057729]\n"
     ]
    }
   ],
   "source": [
    "print(\"Interseccion (b)\", modelo.intercept_)\n",
    "\n",
    "print(\"Pendiente (m)\", modelo.coef_)"
   ]
  },
  {
   "cell_type": "code",
   "execution_count": 26,
   "id": "e4d71ea8-1cfe-4ca5-9289-12f96a9a1993",
   "metadata": {
    "tags": []
   },
   "outputs": [
    {
     "name": "stdout",
     "output_type": "stream",
     "text": [
      "[-40.94285261 -39.63707972]\n"
     ]
    }
   ],
   "source": [
    "entrada = [[15],[25]]\n",
    "predicciones = modelo.predict(entrada)\n",
    "print(predicciones)"
   ]
  },
  {
   "cell_type": "code",
   "execution_count": null,
   "id": "7a0864ed-87e9-460e-9a36-964310eb2e7e",
   "metadata": {},
   "outputs": [],
   "source": []
  }
 ],
 "metadata": {
  "kernelspec": {
   "display_name": "Python 3 (ipykernel)",
   "language": "python",
   "name": "python3"
  },
  "language_info": {
   "codemirror_mode": {
    "name": "ipython",
    "version": 3
   },
   "file_extension": ".py",
   "mimetype": "text/x-python",
   "name": "python",
   "nbconvert_exporter": "python",
   "pygments_lexer": "ipython3",
   "version": "3.11.4"
  }
 },
 "nbformat": 4,
 "nbformat_minor": 5
}
